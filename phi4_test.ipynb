{
 "cells": [
  {
   "cell_type": "markdown",
   "id": "bbb2b96d",
   "metadata": {},
   "source": [
    "Проверка pytorch:"
   ]
  },
  {
   "cell_type": "code",
   "execution_count": null,
   "id": "52ac1c8b",
   "metadata": {},
   "outputs": [],
   "source": [
    "# Step 1: Check Pytorch (optional)\n",
    "import torch\n",
    "print(\"Cuda available: \", torch.cuda.is_available())\n",
    "print(\"Device name:\", torch.cuda.get_device_name())\n",
    "\n",
    "#full test for torch \n",
    "import torch\n",
    "import sys\n",
    "print('A', sys.version)\n",
    "print('B', torch.__version__)\n",
    "print('C', torch.cuda.is_available())\n",
    "print('D', torch.backends.cudnn.enabled)\n",
    "device = torch.device('cuda')\n",
    "print('E', torch.cuda.get_device_properties(device))\n",
    "print('F', torch.tensor([1.0, 2.0]).cuda())"
   ]
  },
  {
   "cell_type": "markdown",
   "id": "8de530b9",
   "metadata": {},
   "source": [
    "Инициализация модели:"
   ]
  },
  {
   "cell_type": "code",
   "execution_count": 1,
   "id": "53768702-b2e0-4620-93ad-c55222113ef4",
   "metadata": {},
   "outputs": [
    {
     "data": {
      "application/vnd.jupyter.widget-view+json": {
       "model_id": "71f26c436d094994ba015e7206a46308",
       "version_major": 2,
       "version_minor": 0
      },
      "text/plain": [
       "Loading checkpoint shards:   0%|          | 0/2 [00:00<?, ?it/s]"
      ]
     },
     "metadata": {},
     "output_type": "display_data"
    }
   ],
   "source": [
    "import torch\n",
    "from transformers import AutoModelForCausalLM, AutoTokenizer, pipeline, BitsAndBytesConfig\n",
    " \n",
    "torch.random.manual_seed(0)\n",
    "\n",
    "q_config = BitsAndBytesConfig(\n",
    "    load_in_4bit=True,\n",
    ")\n",
    "\n",
    "model_path = \"microsoft/Phi-4-mini-instruct\"\n",
    "\n",
    "model = AutoModelForCausalLM.from_pretrained(\n",
    "    model_path,\n",
    "    device_map=\"auto\",\n",
    "    torch_dtype=\"auto\",\n",
    "    trust_remote_code=True,\n",
    "    quantization_config = q_config,\n",
    "    \n",
    ")\n",
    "tokenizer = AutoTokenizer.from_pretrained(model_path)"
   ]
  },
  {
   "cell_type": "markdown",
   "id": "2db22873-7ee6-4953-9e47-19d1915c518b",
   "metadata": {},
   "source": [
    "Применение сообщений:"
   ]
  },
  {
   "cell_type": "code",
   "execution_count": 5,
   "id": "3200e6f9-0689-41af-b6df-50d9c4f32a31",
   "metadata": {},
   "outputs": [
    {
     "name": "stderr",
     "output_type": "stream",
     "text": [
      "Device set to use cuda:0\n"
     ]
    },
    {
     "name": "stdout",
     "output_type": "stream",
     "text": [
      "To solve the equation \\(7x + 7 = 7\\), follow these steps:\n",
      "\n",
      "1. Subtract 7 from both sides of the equation to isolate the term with the variable:\n",
      "   \\[\n",
      "   7x + 7 - 7 = 7 - 7\n",
      "   \\]\n",
      "   Simplifying this gives:\n",
      "   \\[\n",
      "   7x = 0\n",
      "   \\]\n",
      "\n",
      "2. Divide both sides of the equation by 7 to solve for \\(x\\):\n",
      "   \\[\n",
      "   x = \\frac{0}{7}\n",
      "   \\]\n",
      "   Simplifying this gives:\n",
      "   \\[\n",
      "   x = 0\n",
      "   \\]\n",
      "\n",
      "So, the solution to the equation \\(7x + 7 = 7\\) is \\(x = 0\\).\n"
     ]
    }
   ],
   "source": [
    "messages = [\n",
    "    {\"role\": \"system\", \"content\": \"You are a helpful AI.\"},\n",
    "    {\"role\": \"user\", \"content\": \"Can you provide ways to eat combinations of bananas and dragonfruits?\"},\n",
    "    {\"role\": \"assistant\", \"content\": \"Sure! Here are some ways to eat bananas and dragonfruits together: 1. Banana and dragonfruit smoothie: Blend bananas and dragonfruits together with some milk and honey. 2. Banana and dragonfruit salad: Mix sliced bananas and dragonfruits together with some lemon juice and honey.\"},\n",
    "    {\"role\": \"user\", \"content\": \"What about solving an 7x + 7 = 7 equation?\"},\n",
    "]\n",
    " \n",
    "pipe = pipeline(\n",
    "    \"text-generation\",\n",
    "    model=model,\n",
    "    tokenizer=tokenizer,\n",
    ")\n",
    " \n",
    "generation_args = {\n",
    "    \"max_new_tokens\": 500,\n",
    "    \"return_full_text\": False,\n",
    "    \"do_sample\": False,\n",
    "}\n",
    " \n",
    "output = pipe(messages, **generation_args)\n",
    "print(output[0]['generated_text'])"
   ]
  },
  {
   "cell_type": "code",
   "execution_count": null,
   "id": "89e15a72-f200-432b-82e0-f9753d1e5d8e",
   "metadata": {},
   "outputs": [],
   "source": [
    "generation_args = {\n",
    "    \"max_new_tokens\": 500,\n",
    "    \"return_full_text\": False,\n",
    "    \"do_sample\": True,\n",
    "    \"temperature\":1.0,\n",
    "}\n",
    " \n",
    "output = pipe(messages, **generation_args)\n",
    "print(output[0]['generated_text'])"
   ]
  },
  {
   "cell_type": "code",
   "execution_count": null,
   "id": "44048162-e2fc-4a84-9f65-6404bfc18b42",
   "metadata": {},
   "outputs": [],
   "source": [
    "To solve the equation 7x + 7 = 7, you can follow these steps:\n",
    "\n",
    "1. Subtract 7 from both sides of the equation to isolate the variable term.\n",
    "\n",
    "   7x + 7 - 7 = 7 - 7\n",
    "   7x = 0\n",
    "\n",
    "2. Divide both sides of the equation by 7 to get x alone.\n",
    "\n",
    "   7x / 7 = 0 / 7\n",
    "   x = 0\n",
    "\n",
    "So, the solution to the equation 7x + 7 = 7 is x = 0."
   ]
  },
  {
   "cell_type": "code",
   "execution_count": null,
   "id": "9c8123f2-33c7-40ab-ae28-463d0908eb03",
   "metadata": {},
   "outputs": [],
   "source": [
    "To solve the equation 7x + 7 = 7, you would subtract 7 from both sides to isolate the term containing x.\n",
    "This gives you:\n",
    "7x + 7 - 7 = 7 - 7\n",
    "7x = 0\n",
    "And then, divide both sides by 7 to solve for x:\n",
    "x = 0\n",
    "There's nothing wrong with your calculations; x equals 0."
   ]
  },
  {
   "cell_type": "code",
   "execution_count": null,
   "id": "0cae1816-9b42-46d0-ae22-6f136184cdf1",
   "metadata": {},
   "outputs": [],
   "source": [
    "generation_args = {\n",
    "    \"max_new_tokens\": 500,\n",
    "    \"return_full_text\": False,\n",
    "    \"do_sample\": True,\n",
    "    \"temperature\":0.1,\n",
    "}\n",
    " \n",
    "output = pipe(messages, **generation_args)\n",
    "print(output[0]['generated_text'])"
   ]
  },
  {
   "cell_type": "code",
   "execution_count": null,
   "id": "850e89d7-820b-4fa9-9cba-cfe2ca9f5430",
   "metadata": {},
   "outputs": [],
   "source": [
    "generation_args = {\n",
    "    \"max_new_tokens\": 500,\n",
    "    \"return_full_text\": False,\n",
    "    \"do_sample\": True,\n",
    "    \"temperature\":0.5,\n",
    "}\n",
    " \n",
    "output = pipe(messages, **generation_args)\n",
    "print(output[0]['generated_text'])"
   ]
  },
  {
   "cell_type": "code",
   "execution_count": 6,
   "id": "f9b82b34-801e-4dc5-9d8b-b1612dc0316f",
   "metadata": {},
   "outputs": [
    {
     "name": "stdout",
     "output_type": "stream",
     "text": [
      "To solve the equation 7x + 7 = 7, you can follow these steps:\n",
      "\n",
      "1. Subtract 7 from both sides of the equation: 7x = 0\n",
      "2. Divide both sides of the equation by 7: x = 0\n",
      "\n",
      "So the solution to the equation 7x + 7 = 7 is x = 0.\n"
     ]
    }
   ],
   "source": [
    "generation_args = {\n",
    "    \"max_new_tokens\": 500,\n",
    "    \"return_full_text\": False,\n",
    "    \"do_sample\": True,\n",
    "    \"top_p\":1.0,\n",
    "}\n",
    " \n",
    "output = pipe(messages, **generation_args)\n",
    "print(output[0]['generated_text'])"
   ]
  },
  {
   "cell_type": "code",
   "execution_count": null,
   "id": "884889d0-e21a-429b-a28d-17bcb187e368",
   "metadata": {},
   "outputs": [],
   "source": [
    "generation_args = {\n",
    "    \"max_new_tokens\": 500,\n",
    "    \"return_full_text\": False,\n",
    "    \"do_sample\": True,\n",
    "    \"temperature\":1.0,\n",
    "}\n",
    "\n",
    "pipe = pipeline(\n",
    "    \"text-generation\",\n",
    "    model=model,\n",
    "    tokenizer=tokenizer,\n",
    ")\n",
    " \n",
    "output = pipe(messages, **generation_args)\n",
    "print(output[0]['generated_text'])"
   ]
  },
  {
   "cell_type": "code",
   "execution_count": null,
   "id": "be6f28c9-02c4-4b12-a619-e3abba865761",
   "metadata": {},
   "outputs": [],
   "source": []
  }
 ],
 "metadata": {
  "kernelspec": {
   "display_name": "Python 3 (ipykernel)",
   "language": "python",
   "name": "python3"
  },
  "language_info": {
   "codemirror_mode": {
    "name": "ipython",
    "version": 3
   },
   "file_extension": ".py",
   "mimetype": "text/x-python",
   "name": "python",
   "nbconvert_exporter": "python",
   "pygments_lexer": "ipython3",
   "version": "3.12.10"
  }
 },
 "nbformat": 4,
 "nbformat_minor": 5
}
