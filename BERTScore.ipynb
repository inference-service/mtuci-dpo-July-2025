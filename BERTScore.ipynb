{
 "cells": [
  {
   "cell_type": "markdown",
   "id": "fc46e0cb-9a66-4b5b-afbc-ec21a1361665",
   "metadata": {},
   "source": [
    "Промпт 1:\n",
    "\"Сочини короткую историю про Колобка\"\n",
    "\n",
    "Промпт 2:\n",
    "\"Сочини историю про Колобка в 13 словах и не больше\"\n",
    "\n",
    "Эталон:\n",
    "\"Жил-был Колобок, от деда ушёл, от бабки ушёл, от лисы - не ушёл\""
   ]
  },
  {
   "cell_type": "code",
   "execution_count": null,
   "id": "cba79cb3-0647-4919-bb90-f151069d4386",
   "metadata": {},
   "outputs": [],
   "source": [
    "import bert_score\n",
    "bert_score.__version__"
   ]
  },
  {
   "cell_type": "code",
   "execution_count": null,
   "id": "0fb6fcfe-4711-4d2d-9fa7-e4a844408525",
   "metadata": {},
   "outputs": [],
   "source": [
    "import logging\n",
    "import transformers\n",
    "transformers.tokenization_utils.logger.setLevel(logging.ERROR)\n",
    "transformers.configuration_utils.logger.setLevel(logging.ERROR)\n",
    "transformers.modeling_utils.logger.setLevel(logging.ERROR)"
   ]
  },
  {
   "cell_type": "code",
   "execution_count": null,
   "id": "eef24c64-edfd-4b0b-a630-986a44c69b69",
   "metadata": {},
   "outputs": [],
   "source": [
    "%matplotlib inline\n",
    "import matplotlib.pyplot as plt\n",
    "from matplotlib import rcParams\n",
    "\n",
    "rcParams[\"xtick.major.size\"] = 0\n",
    "rcParams[\"xtick.minor.size\"] = 0\n",
    "rcParams[\"ytick.major.size\"] = 0\n",
    "rcParams[\"ytick.minor.size\"] = 0\n",
    "\n",
    "rcParams[\"axes.labelsize\"] = \"large\"\n",
    "rcParams[\"axes.axisbelow\"] = True\n",
    "rcParams[\"axes.grid\"] = True"
   ]
  },
  {
   "cell_type": "code",
   "execution_count": null,
   "id": "4e337c6a-dc9f-4a2c-ad7f-51ea661180f5",
   "metadata": {},
   "outputs": [],
   "source": [
    "from bert_score import BERTScorer"
   ]
  },
  {
   "cell_type": "code",
   "execution_count": null,
   "id": "78fe6848-d3ba-46be-a93c-16221b0da477",
   "metadata": {},
   "outputs": [],
   "source": [
    "with open(\"data/hyps.txt\", encoding=\"utf-8\") as f:\n",
    "    cands = []\n",
    "    cand = ''\n",
    "    for line in f:\n",
    "        if line.strip() == \"[SEP]\":\n",
    "            cands.append(cand)\n",
    "            cand = ''\n",
    "            line = next(f)\n",
    "        cand += line\n",
    "    else:\n",
    "        cands.append(cand)\n",
    "\n",
    "with open(\"data/refs.txt\", encoding=\"utf-8\") as f:\n",
    "    refs = []\n",
    "    ref = ''\n",
    "    for line in f:\n",
    "        if line.strip() == \"[SEP]\":\n",
    "            refs.append(ref)\n",
    "            ref = ''\n",
    "            line = next(f)\n",
    "        ref += line\n",
    "    else:\n",
    "        refs.append(ref)"
   ]
  },
  {
   "cell_type": "code",
   "execution_count": null,
   "id": "e1f2a740-06ab-4f04-956a-924303c1912e",
   "metadata": {},
   "outputs": [],
   "source": [
    "print(cands)\n",
    "print(refs)"
   ]
  },
  {
   "cell_type": "code",
   "execution_count": null,
   "id": "bd691cf7-70b8-4085-8939-ed20ea94e703",
   "metadata": {},
   "outputs": [],
   "source": [
    "scorer = BERTScorer(lang=\"ru\")"
   ]
  },
  {
   "cell_type": "code",
   "execution_count": null,
   "id": "77db9298-3683-4d87-8926-ac4a0719c014",
   "metadata": {},
   "outputs": [],
   "source": [
    "P, R, F1 = scorer.score([cands[0],], [refs])\n",
    "print(P)\n",
    "print(R)\n",
    "print(F1)\n",
    "P, R, F1 = scorer.score([cands[1],], [refs])\n",
    "print(P)\n",
    "print(R)\n",
    "print(F1)"
   ]
  },
  {
   "cell_type": "code",
   "execution_count": null,
   "id": "f4b880a8-c14b-48ff-8c1e-78e1ecfbd23e",
   "metadata": {},
   "outputs": [],
   "source": [
    "scorer.plot_example(cands[0], refs[1])"
   ]
  },
  {
   "cell_type": "code",
   "execution_count": null,
   "id": "2d9488fc-fe52-4b19-b2dd-0ae5fd4c90bd",
   "metadata": {},
   "outputs": [],
   "source": [
    "import nltk\n",
    "from nltk.translate.bleu_score import sentence_bleu\n",
    "from rouge_score import rouge_scorer\n",
    "from transformers import AutoTokenizer\n",
    "# Download necessary NLTK data\n",
    "nltk.download('punkt')\n",
    "nltk.download('punkt_tab')\n",
    "\n",
    "\n",
    "# Example sentences\n",
    "reference = refs\n",
    "candidate = cands\n",
    "\n",
    "# Tokenize the reference and candidate\n",
    "reference_tokenized = [nltk.word_tokenize(ref) for ref in reference]\n",
    "candidate_tokenized = [nltk.word_tokenize(cand) for cand in candidate]\n",
    "\n",
    "#print(candidate_tokenized)\n",
    "# BLEU Score Calculation using NLTK\n",
    "bleu_score = sentence_bleu(reference_tokenized, candidate_tokenized[0], weights=(0.25, 0.25))\n",
    "print(f\"BLEU Score (NLTK) 1: {bleu_score:.2f}\")\n",
    "bleu_score = sentence_bleu(reference_tokenized, candidate_tokenized[1], weights=(0.25, 0.25))\n",
    "print(f\"BLEU Score (NLTK) 2: {bleu_score:.2f}\")\n",
    "\n",
    "\n",
    "tokenizer = AutoTokenizer.from_pretrained(\"blinoff/roberta-base-russian-v0\")\n",
    "\n",
    "# ROUGE Score Calculation using rouge-score\n",
    "scorer = rouge_scorer.RougeScorer(['rouge1','rouge2', 'rougeL'], use_stemmer=False, tokenizer=tokenizer)\n",
    "scores = scorer.score(reference[1], candidate[0])\n",
    "print(f\"ROUGE-1 F1 Score: {scores['rouge1'].fmeasure:.2f}\")\n",
    "print(f\"ROUGE-L F1 Score: {scores['rougeL'].fmeasure:.2f}\")\n",
    "print(f\"ROUGE-2 F1 Score: {scores['rouge2'].fmeasure:.2f}\")\n",
    "# ROUGE Score Calculation using rouge-score\n",
    "scorer = rouge_scorer.RougeScorer(['rouge1','rouge2', 'rougeL'], use_stemmer=False, tokenizer=tokenizer)\n",
    "scores = scorer.score(reference[1], candidate[1])\n",
    "print(f\"ROUGE-1 F1 Score: {scores['rouge1'].fmeasure:.2f}\")\n",
    "print(f\"ROUGE-L F1 Score: {scores['rougeL'].fmeasure:.2f}\")\n",
    "print(f\"ROUGE-2 F1 Score: {scores['rouge2'].fmeasure:.2f}\")"
   ]
  },
  {
   "cell_type": "code",
   "execution_count": null,
   "id": "9fddb351-c5fb-4d10-bb9c-e1b5504142a7",
   "metadata": {},
   "outputs": [],
   "source": [
    "nltk.download()"
   ]
  },
  {
   "cell_type": "code",
   "execution_count": null,
   "id": "0fd4dd14-00c2-425c-aaba-748d57299e67",
   "metadata": {},
   "outputs": [],
   "source": [
    "refs_tokenized = [nltk.word_tokenize(ref) for ref in refs]\n",
    "cands_tokenized = [nltk.word_tokenize(cand) for cand in cands]\n",
    "\n",
    "print(refs_tokenized)\n",
    "\n",
    "print(cands_tokenized)\n"
   ]
  },
  {
   "cell_type": "code",
   "execution_count": null,
   "id": "c7e09223-d08b-4fd1-a6c0-d166b6f7425b",
   "metadata": {},
   "outputs": [],
   "source": [
    "bleu_score = sentence_bleu(refs_tokenized, cands_tokenized[0])\n",
    "print(f\"BLEU Score (NLTK): {bleu_score * 100:.2f}\")\n",
    "scorer = rouge_scorer.RougeScorer(['rouge1', 'rougeL'], use_stemmer=True)\n",
    "scores = scorer.score(reference[0], candidate[0])\n",
    "print(f\"ROUGE-1 F1 Score: {scores['rouge1'].fmeasure:.2f}\")\n",
    "print(f\"ROUGE-L F1 Score: {scores['rougeL'].fmeasure:.2f}\")\n"
   ]
  },
  {
   "cell_type": "code",
   "execution_count": null,
   "id": "a5effcb3-2896-4211-9257-6aa6269ca629",
   "metadata": {},
   "outputs": [],
   "source": [
    "P, R, F1 = scorer.score(cands, refs)\n",
    "print(P)\n",
    "print(R)\n",
    "print(F1)"
   ]
  },
  {
   "cell_type": "code",
   "execution_count": null,
   "id": "e5a92345-abec-47e3-9743-75c7e5f72a20",
   "metadata": {},
   "outputs": [],
   "source": []
  }
 ],
 "metadata": {
  "kernelspec": {
   "display_name": "Python 3 (ipykernel)",
   "language": "python",
   "name": "python3"
  },
  "language_info": {
   "codemirror_mode": {
    "name": "ipython",
    "version": 3
   },
   "file_extension": ".py",
   "mimetype": "text/x-python",
   "name": "python",
   "nbconvert_exporter": "python",
   "pygments_lexer": "ipython3",
   "version": "3.10.11"
  }
 },
 "nbformat": 4,
 "nbformat_minor": 5
}
